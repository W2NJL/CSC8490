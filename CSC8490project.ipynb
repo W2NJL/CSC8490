{
  "nbformat": 4,
  "nbformat_minor": 0,
  "metadata": {
    "colab": {
      "name": "Copy of Untitled1.ipynb",
      "provenance": [],
      "authorship_tag": "ABX9TyM1Kg4LFq6W791rsT1xWy1n",
      "include_colab_link": true
    },
    "kernelspec": {
      "name": "python3",
      "display_name": "Python 3"
    }
  },
  "cells": [
    {
      "cell_type": "markdown",
      "metadata": {
        "id": "view-in-github",
        "colab_type": "text"
      },
      "source": [
        "<a href=\"https://colab.research.google.com/github/W2NJL/CSC8490/blob/main/CSC8490project.ipynb\" target=\"_parent\"><img src=\"https://colab.research.google.com/assets/colab-badge.svg\" alt=\"Open In Colab\"/></a>"
      ]
    },
    {
      "cell_type": "code",
      "metadata": {
        "id": "tF6DPoH_kuod"
      },
      "source": [
        "# Set up the Oracle client - as neatly prepared by Prof. Frein Esq.\n",
        "\n",
        "! pip install cx_Oracle\n",
        "\n",
        "! ls -l oracle-instantclient*-basiclite-*.rpm || wget https://yum.oracle.com/repo/OracleLinux/OL7/oracle/instantclient/x86_64/getPackage/oracle-instantclient19.3-basiclite-19.3.0.0.0-1.x86_64.rpm\n",
        "\n",
        "! ls -l oracle-instantclient*-sqlplus-*.rpm   || wget https://yum.oracle.com/repo/OracleLinux/OL7/oracle/instantclient/x86_64/getPackage/oracle-instantclient19.3-sqlplus-19.3.0.0.0-1.x86_64.rpm\n",
        "\n",
        "! sudo apt-get install alien libaio1\n",
        "\n",
        "! sudo alien -i oracle-instantclient19.3-basiclite-19.3.0.0.0-1.x86_64.rpm\n",
        "\n",
        "! sudo alien -i oracle-instantclient19.3-sqlplus-19.3.0.0.0-1.x86_64.rpm\n",
        "\n",
        "%env ORACLE_HOME=/usr/lib/oracle/19.3/client64\n",
        "\n",
        "%env LD_LIBRARY_PATH=/usr/lib/oracle/19.3/client64/lib\n",
        "\n",
        "print('Setup finished!')"
      ],
      "execution_count": null,
      "outputs": []
    },
    {
      "cell_type": "code",
      "metadata": {
        "colab": {
          "base_uri": "https://localhost:8080/"
        },
        "id": "MWb1bhxik14a",
        "outputId": "40ae6bff-e2ad-458d-b4e3-b0864771f990"
      },
      "source": [
        "# connect into Nick's Oracle DB instance on Prof. Frein's cloud server\n",
        "import numpy as np\n",
        "import pandas as pd\n",
        "import cx_Oracle\n",
        "\n",
        "CONN_INFO = {\n",
        " 'host': '45.79.135.253',\n",
        " 'port': '1521',\n",
        " 'user': 'nlanga01',\n",
        " 'psw': '00700368',\n",
        " 'service': 'xe',\n",
        "}\n",
        "CONN_STR = '{user}/{psw}@{host}:{port}/{service}'.format(**CONN_INFO)\n",
        "connection = cx_Oracle.connect(CONN_STR)\n",
        "\n",
        "cursor = connection.cursor()\n",
        "\n",
        "print(connection.version)"
      ],
      "execution_count": null,
      "outputs": [
        {
          "output_type": "stream",
          "text": [
            "18.4.0.0.0\n"
          ],
          "name": "stdout"
        }
      ]
    },
    {
      "cell_type": "code",
      "metadata": {
        "id": "WXlAXbCimHyA"
      },
      "source": [
        "# calling a stored procedure\n",
        "# run the stored procedure setup in the slides first\n",
        "# set up a variable to accept the procedure output\n",
        "result = cursor.var(cx_Oracle.NUMBER)\n",
        "val = input(\"Enter the callletters of the station you wish to find the distance in miles from Villanova University: \") \n",
        "# calling the procedure\n",
        "cursor.callproc(\"FINDDISTANCE\", [\"Villanova\", val, result])\n",
        "print(\"Distance from Villanova in miles to \" + val + \" is: \")\n",
        "print(result)"
      ],
      "execution_count": null,
      "outputs": []
    },
    {
      "cell_type": "code",
      "metadata": {
        "id": "TyrPIHFQnAfO"
      },
      "source": [
        "# run a SELECT and print results\n",
        "for result in cursor.execute(\"select * from DXPEDITIONLOGS\"):\n",
        "    print(result)"
      ],
      "execution_count": null,
      "outputs": []
    }
  ]
}