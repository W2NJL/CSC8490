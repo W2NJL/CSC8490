{
  "nbformat": 4,
  "nbformat_minor": 0,
  "metadata": {
    "colab": {
      "name": "Copy of Copy of Copy of Untitled1.ipynb",
      "provenance": [],
      "collapsed_sections": [],
      "authorship_tag": "ABX9TyN9OyiONm4et2rZSRDPZofi",
      "include_colab_link": true
    },
    "kernelspec": {
      "name": "python3",
      "display_name": "Python 3"
    }
  },
  "cells": [
    {
      "cell_type": "markdown",
      "metadata": {
        "id": "view-in-github",
        "colab_type": "text"
      },
      "source": [
        "<a href=\"https://colab.research.google.com/github/W2NJL/CSC8490/blob/main/CSC8490project.ipynb\" target=\"_parent\"><img src=\"https://colab.research.google.com/assets/colab-badge.svg\" alt=\"Open In Colab\"/></a>"
      ]
    },
    {
      "cell_type": "code",
      "metadata": {
        "id": "tF6DPoH_kuod"
      },
      "source": [
        "# Set up the Oracle client - as neatly prepared by Prof. Frein Esq.\n",
        "\n",
        "! pip install cx_Oracle\n",
        "\n",
        "! ls -l oracle-instantclient*-basiclite-*.rpm || wget https://yum.oracle.com/repo/OracleLinux/OL7/oracle/instantclient/x86_64/getPackage/oracle-instantclient19.3-basiclite-19.3.0.0.0-1.x86_64.rpm\n",
        "\n",
        "! ls -l oracle-instantclient*-sqlplus-*.rpm   || wget https://yum.oracle.com/repo/OracleLinux/OL7/oracle/instantclient/x86_64/getPackage/oracle-instantclient19.3-sqlplus-19.3.0.0.0-1.x86_64.rpm\n",
        "\n",
        "! sudo apt-get install alien libaio1\n",
        "\n",
        "! sudo alien -i oracle-instantclient19.3-basiclite-19.3.0.0.0-1.x86_64.rpm\n",
        "\n",
        "! sudo alien -i oracle-instantclient19.3-sqlplus-19.3.0.0.0-1.x86_64.rpm\n",
        "\n",
        "%env ORACLE_HOME=/usr/lib/oracle/19.3/client64\n",
        "\n",
        "%env LD_LIBRARY_PATH=/usr/lib/oracle/19.3/client64/lib\n",
        "\n",
        "print('Setup finished!')"
      ],
      "execution_count": null,
      "outputs": []
    },
    {
      "cell_type": "code",
      "metadata": {
        "id": "MWb1bhxik14a"
      },
      "source": [
        "# connect into Nick's Oracle DB instance on Prof. Frein's cloud server\n",
        "import numpy as np\n",
        "import pandas as pd\n",
        "import cx_Oracle\n",
        "\n",
        "CONN_INFO = {\n",
        " 'host': '45.79.135.253',\n",
        " 'port': '1521',\n",
        " 'user': 'nlanga01',\n",
        " 'psw': '00700368',\n",
        " 'service': 'xe',\n",
        "}\n",
        "CONN_STR = '{user}/{psw}@{host}:{port}/{service}'.format(**CONN_INFO)\n",
        "connection = cx_Oracle.connect(CONN_STR)\n",
        "\n",
        "cursor = connection.cursor()\n",
        "\n",
        "print(connection.version)"
      ],
      "execution_count": null,
      "outputs": []
    },
    {
      "cell_type": "code",
      "metadata": {
        "id": "TyrPIHFQnAfO"
      },
      "source": [
        "# SELECT QUERY:  Which stations, in the LOGPROPMETHOD table, have been logged by multiple propagation methods, how many times total, and how many times have they been logged in each method?\n",
        "# I also would like to see what frequency those stations are on, and their city and state of license, from the NORTHAMERICANFM table.\n",
        "# The propagation methods are tropospheric ducting, E-Skip, and meteor scatter.\n",
        "\n",
        "results = []\n",
        "\n",
        "for result in cursor.execute(\"SELECT n.CallLetters, n.Frequency, n.City, n.State,  COUNT(*) as total, \\\n",
        "    SUM(CASE WHEN l.PropMethod = 'Tr' THEN 1 ELSE 0 END) as Tropo, \\\n",
        "    SUM(CASE WHEN l.PropMethod = 'Es' THEN 1 ELSE 0 END) as E_Skip, \\\n",
        "    SUM(CASE WHEN l.PropMethod = 'Ms' THEN 1 ELSE 0 END) as Meteor_Scatter \\\n",
        "FROM logpropmethod l, NORTHAMERICANFM n \\\n",
        "WHERE n.CALLLETTERS = l.CALLLETTERS \\\n",
        "GROUP BY n.CallLetters, n.Frequency, n.City, n.State \\\n",
        "HAVING COUNT(*) > 1\"):\n",
        "  results.append(result)\n",
        "\n",
        "# Because I could not resist, I had to figure out the way for the column names to print for this query to somewhat make sense!     \n",
        "column_names = []\n",
        "data_rows = []\n",
        "column_names = [desc[0] for desc in cursor.description]\n",
        "for row in cursor:\n",
        "  data_rows.append(row)\n",
        "    \n",
        "# Print the results of the query\n",
        "print(\"{}\".format(column_names))\n",
        "for i in results:\n",
        "  print (i)\n",
        "\n"
      ],
      "execution_count": null,
      "outputs": []
    },
    {
      "cell_type": "code",
      "metadata": {
        "id": "WXlAXbCimHyA"
      },
      "source": [
        "# STORED PROCEDURE:\n",
        "# This procedure prompts you, our dear user, for the call letters of a licensed North American FM radio station\n",
        "# After entering the call letters, if the call letters are in the NORTHAMERICANFM table (the table is not 100% comprehensive), it will calculate the distance via its coordinates\n",
        "# between the station's transmitter and the coordinates for Mendel Hall at Villanova University.  You can use call letters such as WIP (for 94.1 WIP in Philadelphia) as an example, \n",
        "# or Villanova's own WXVU (shameless plug - for which I am the music director!).\n",
        "# The distance is returned in miles in decimal format (i.e 5.6)\n",
        "# The location portion of the procedure input I have as a variable so it can be customized to refer to coordinates for a given location (you can substitute 'Villanova' for 'Nick' for my home coordinates).\n",
        "result = cursor.var(cx_Oracle.NUMBER)\n",
        "\n",
        "location = \"Villanova\"\n",
        "val = input(\"Enter the callletters of the station you wish to find the distance in miles from Villanova University: \") \n",
        "# calling the procedure\n",
        "cursor.callproc(\"FINDDISTANCE\", [location, val, result])\n",
        "res = result.getvalue()\n",
        "print(\"Distance from \" + location + \" to \" + val + \" is: {}\".format(res) + \" miles\")\n",
        "\n"
      ],
      "execution_count": null,
      "outputs": []
    },
    {
      "cell_type": "code",
      "metadata": {
        "id": "5JXHNJ4gbGd5"
      },
      "source": [
        "# CHANGE SOME DATA:\n",
        "# Update statement:  In my DXPEDITIONS table, I set aside a derived attribute 'AMOUNTLOGGED' to show the amount of stations logged at each DXpedition event.  \n",
        "# The stations logged exist in the 'DXPEDITIONLOGS' table.  I used an Update statement to calculate the count of logs from each DXpedition, then place it in its respective\n",
        "# row in in the DXPEDITIONS table.  Here, I will print the DXPEDITIONS table as is (with the 'AMOUNTLOGGED' attribute null), then run the update statement, then print the subsequent select statement\n",
        "# in the next block.\n",
        "\n",
        "#FIRST, let's set the 'AMOUNTLOGGED' column to null (in case I ran this Update statement recently!).\n",
        "reset_query = \"UPDATE DXPEDITION SET AMOUNTLOGGED = null\"\n",
        "cursor.execute(reset_query)\n",
        "\n",
        "#BEFORE (you will see a 'None' result at the end of the query, which represents the 'AMOUNTLOGGED' attribute):\n",
        "for result in cursor.execute(\"SELECT * from DXPEDITION\"):\n",
        "    print(result)\n",
        "#UPDATE STATEMENT:\n",
        "sql_update_query = \"update dxpedition set amountlogged = (select count (*) from dxpeditionlogs where dxpeditionlogs.dxpedition = dxpedition.name)\"\n",
        "cursor.execute(sql_update_query)"
      ],
      "execution_count": null,
      "outputs": []
    },
    {
      "cell_type": "code",
      "metadata": {
        "id": "-VSN5Xy_e5vo"
      },
      "source": [
        "#AFTER (there is only one DXPEDITION loaded in the DXPEDITION table at this time)\n",
        "for result in cursor.execute(\"SELECT * from DXPEDITION\"):\n",
        "    print(result)"
      ],
      "execution_count": null,
      "outputs": []
    },
    {
      "cell_type": "code",
      "metadata": {
        "id": "-sMpUb9IfByA"
      },
      "source": [
        " #make changes public and permanent\n",
        " connection.commit()"
      ],
      "execution_count": null,
      "outputs": []
    },
    {
      "cell_type": "code",
      "metadata": {
        "id": "uXR7mgOEfvHo"
      },
      "source": [
        "#Be kind, close the connection\n",
        "connection.close()"
      ],
      "execution_count": null,
      "outputs": []
    }
  ]
}